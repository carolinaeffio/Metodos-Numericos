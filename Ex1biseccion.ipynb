{
 "cells": [
  {
   "cell_type": "code",
   "execution_count": 23,
   "metadata": {},
   "outputs": [
    {
     "name": "stdout",
     "output_type": "stream",
     "text": [
      "The autoreload extension is already loaded. To reload it, use:\n",
      "  %reload_ext autoreload\n",
      "iteração: 0, valor da raiz: 10.5\n",
      "iteração: 1, valor da raiz: 5.75\n",
      "iteração: 2, valor da raiz: 3.375\n",
      "iteração: 3, valor da raiz: 2.1875\n",
      "iteração: 4, valor da raiz: 1.59375\n",
      "iteração: 5, valor da raiz: 1.890625\n",
      "iteração: 6, valor da raiz: 2.0390625\n",
      "iteração: 7, valor da raiz: 1.96484375\n",
      "iteração: 8, valor da raiz: 2.001953125\n",
      "iteração: 9, valor da raiz: 1.9833984375\n",
      "iteração: 10, valor da raiz: 1.99267578125\n",
      "iteração: 11, valor da raiz: 1.997314453125\n",
      "iteração: 12, valor da raiz: 1.9996337890625\n",
      "iteração: 13, valor da raiz: 2.00079345703125\n",
      "iteração: 14, valor da raiz: 2.000213623046875\n",
      "iteração: 15, valor da raiz: 1.9999237060546875\n",
      "iteração: 16, valor da raiz: 2.0000686645507812\n",
      "Valor da função na raiz: 0.000205998367164284\n",
      "Raiz aproximada: 2.0000686645507812\n"
     ]
    }
   ],
   "source": [
    "%load_ext autoreload\n",
    "%autoreload 2\n",
    "import Bisection\n",
    "\n",
    "# Definir la función y(x)\n",
    "def y(x):\n",
    "    return x**2 - x - 2\n",
    "\n",
    "# Parametros para el método\n",
    "TLow = 1\n",
    "THigh = 20\n",
    "maxIter = 100\n",
    "maxErro = 0.0001\n",
    "\n",
    "# Llamar al método\n",
    "raiz = Bisection.bisec(y, TLow, THigh, maxErro, maxIter)\n",
    "\n",
    "# Exibir resultado\n",
    "print(\"Valor da função na raiz:\", y(raiz))\n",
    "print(\"Raiz aproximada:\", raiz)"
   ]
  },
  {
   "cell_type": "code",
   "execution_count": 18,
   "metadata": {},
   "outputs": [
    {
     "name": "stdout",
     "output_type": "stream",
     "text": [
      "Bisection.py  Ex1biseccion.ipynb  Newton.ipynb\t__pycache__  Untitled.ipynb\n",
      "\n",
      "def bisec(f, a, b, tol, max_iter): #f:funcion. [a,b]:intervalo\n",
      "    if f(a) * f(b) >= 0:\n",
      "        print(\"No se cumple la condición inicial: f(a) * f(b) < 0\")\n",
      "        return None\n",
      "    \n",
      "    iteraciones = 0\n",
      "    while (b - a) / 2 > tol and iteraciones < max_iter: \n",
      "        iteraciones += 1\n",
      "        c = (a + b) / 2 #punto medio del intervalo\n",
      "        print(\"iteracion: {}, valor de la raiz: {}\".format(iteraciones, c))\n",
      "        if f(c) == 0:\n",
      "            return c  # La raíz exacta se encontró\n",
      "        elif f(a) * f(c) < 0: #clasificacion del signo\n",
      "            b = c  # La raíz está en [a, c]\n",
      "        else:\n",
      "            a = c  # La raíz está en [c, b]\n",
      "    \n",
      "    return c  # Aproximación de la raíz\n"
     ]
    }
   ],
   "source": [
    "!ls\n",
    "!cat Bisection.py\n",
    "\n",
    "\n",
    "\n"
   ]
  },
  {
   "cell_type": "code",
   "execution_count": null,
   "metadata": {},
   "outputs": [],
   "source": []
  },
  {
   "cell_type": "code",
   "execution_count": null,
   "metadata": {},
   "outputs": [],
   "source": []
  }
 ],
 "metadata": {
  "kernelspec": {
   "display_name": "Python 3",
   "language": "python",
   "name": "python3"
  },
  "language_info": {
   "codemirror_mode": {
    "name": "ipython",
    "version": 3
   },
   "file_extension": ".py",
   "mimetype": "text/x-python",
   "name": "python",
   "nbconvert_exporter": "python",
   "pygments_lexer": "ipython3",
   "version": "3.6.9"
  }
 },
 "nbformat": 4,
 "nbformat_minor": 2
}
