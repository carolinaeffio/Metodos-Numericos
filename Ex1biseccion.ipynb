{
 "cells": [
  {
   "cell_type": "code",
   "execution_count": 47,
   "metadata": {},
   "outputs": [
    {
     "name": "stdout",
     "output_type": "stream",
     "text": [
      "The autoreload extension is already loaded. To reload it, use:\n",
      "  %reload_ext autoreload\n",
      "iteracion: 1, valor de la raiz: 10.5\n",
      "iteracion: 2, valor de la raiz: 5.75\n",
      "iteracion: 3, valor de la raiz: 3.375\n",
      "iteracion: 4, valor de la raiz: 2.1875\n",
      "iteracion: 5, valor de la raiz: 1.59375\n",
      "iteracion: 6, valor de la raiz: 1.890625\n",
      "iteracion: 7, valor de la raiz: 2.0390625\n",
      "iteracion: 8, valor de la raiz: 1.96484375\n",
      "iteracion: 9, valor de la raiz: 2.001953125\n",
      "iteracion: 10, valor de la raiz: 1.9833984375\n",
      "iteracion: 11, valor de la raiz: 1.99267578125\n",
      "iteracion: 12, valor de la raiz: 1.997314453125\n",
      "iteracion: 13, valor de la raiz: 1.9996337890625\n",
      "iteracion: 14, valor de la raiz: 2.00079345703125\n",
      "iteracion: 15, valor de la raiz: 2.000213623046875\n",
      "iteracion: 16, valor de la raiz: 1.9999237060546875\n",
      "iteracion: 17, valor de la raiz: 2.0000686645507812\n",
      "Valor da função na raiz: 0.000205998367164284\n",
      "Raiz aproximada: 2.0000686645507812\n"
     ]
    }
   ],
   "source": [
    "%load_ext autoreload\n",
    "%autoreload 2\n",
    "import Metodo\n",
    "\n",
    "# Definir la función y(x)\n",
    "def y(x):\n",
    "    return x**2 - x - 2\n",
    "\n",
    "# Parametros para el método\n",
    "TLow = 1\n",
    "THigh = 20\n",
    "maxIter = 100\n",
    "maxErro = 0.0001\n",
    "\n",
    "# Llamar al método\n",
    "raiz = Metodo.bisection(y, TLow, THigh, maxErro, maxIter)\n",
    "\n",
    "# Exibir resultado\n",
    "print(\"Valor da função na raiz:\", y(raiz))\n",
    "print(\"Raiz aproximada:\", raiz)"
   ]
  },
  {
   "cell_type": "code",
   "execution_count": 46,
   "metadata": {},
   "outputs": [
    {
     "name": "stdout",
     "output_type": "stream",
     "text": [
      "Ex1biseccion.ipynb  Metodo.py  __pycache__\n",
      "cat: MetodoBiseccion.py: No such file or directory\n"
     ]
    }
   ],
   "source": [
    "!ls\n",
    "!cat MetodoBiseccion.py\n",
    "\n",
    "\n"
   ]
  },
  {
   "cell_type": "code",
   "execution_count": null,
   "metadata": {},
   "outputs": [],
   "source": []
  }
 ],
 "metadata": {
  "kernelspec": {
   "display_name": "Python 3",
   "language": "python",
   "name": "python3"
  },
  "language_info": {
   "codemirror_mode": {
    "name": "ipython",
    "version": 3
   },
   "file_extension": ".py",
   "mimetype": "text/x-python",
   "name": "python",
   "nbconvert_exporter": "python",
   "pygments_lexer": "ipython3",
   "version": "3.6.9"
  }
 },
 "nbformat": 4,
 "nbformat_minor": 2
}
