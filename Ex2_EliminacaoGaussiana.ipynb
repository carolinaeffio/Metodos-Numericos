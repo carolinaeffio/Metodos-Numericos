{
 "cells": [
  {
   "cell_type": "code",
   "execution_count": 8,
   "metadata": {},
   "outputs": [
    {
     "name": "stdout",
     "output_type": "stream",
     "text": [
      "The autoreload extension is already loaded. To reload it, use:\n",
      "  %reload_ext autoreload\n",
      "Solução do sistema: [-5.5  3.   5.5]\n"
     ]
    }
   ],
   "source": [
    "%load_ext autoreload\n",
    "%autoreload 2\n",
    "\n",
    "import numpy as np\n",
    "from EliminacaoGauss import gauss_eliminacao\n",
    "\n",
    "# Novo sistema:\n",
    "#  x + 2y +  z =  6\n",
    "# 2x + 5y + 2z = 15\n",
    "# 2x + 3y + 4z = 20\n",
    "#Ax = b\n",
    "\n",
    "A = np.array([[1, 2, 1],\n",
    "              [2, 5, 2],\n",
    "              [2, 3, 4]], dtype=float)\n",
    "\n",
    "b = np.array([6, 15, 20], dtype=float)\n",
    "\n",
    "x = gauss_eliminacao(A, b)\n",
    "\n",
    "print(\"Solução do sistema:\", x)\n"
   ]
  },
  {
   "cell_type": "code",
   "execution_count": 3,
   "metadata": {},
   "outputs": [
    {
     "name": "stdout",
     "output_type": "stream",
     "text": [
      "Bisection.py\t\t       GradConjugado.py\r\n",
      "Cholesky.py\t\t       grafico.png\r\n",
      "EliminacaoGauss.py\t       IntegracaoPontoMedio.py\r\n",
      "Ex1biseccion.ipynb\t       lagrange.py\r\n",
      "Ex1Cholesky.ipynb\t       Lagrange.py\r\n",
      "Ex1EliminacaoGaussiana.ipynb   LU.py\r\n",
      "Ex1GaussSeidel.ipynb\t       MetJacobi.py\r\n",
      "Ex1GradienteConjugado.ipynb    minimos_quadrados.png\r\n",
      "Ex1Jacobi.ipynb\t\t       Minimosquadrados.py\r\n",
      "Ex1_Lagrange.ipynb\t       newton_interp.png\r\n",
      "Ex1LU.ipynb\t\t       Newton.py\r\n",
      "Ex1_MinimosQuadrados.ipynb     PolinomioNewton.py\r\n",
      "Ex1Newton.ipynb\t\t       __pycache__\r\n",
      "Ex1_PolinomioNewton.ipynb      Untitled1.ipynb\r\n",
      "Ex2_EliminacaoGaussiana.ipynb  Untitled.ipynb\r\n",
      "GaussSeidel.py\r\n"
     ]
    }
   ],
   "source": [
    "!ls"
   ]
  },
  {
   "cell_type": "code",
   "execution_count": 5,
   "metadata": {},
   "outputs": [
    {
     "name": "stdout",
     "output_type": "stream",
     "text": [
      "cat: EliminacaoGauss: No such file or directory\r\n"
     ]
    }
   ],
   "source": [
    "!cat EliminacaoGauss"
   ]
  },
  {
   "cell_type": "code",
   "execution_count": null,
   "metadata": {},
   "outputs": [],
   "source": []
  }
 ],
 "metadata": {
  "kernelspec": {
   "display_name": "Python 3",
   "language": "python",
   "name": "python3"
  },
  "language_info": {
   "codemirror_mode": {
    "name": "ipython",
    "version": 3
   },
   "file_extension": ".py",
   "mimetype": "text/x-python",
   "name": "python",
   "nbconvert_exporter": "python",
   "pygments_lexer": "ipython3",
   "version": "3.6.9"
  }
 },
 "nbformat": 4,
 "nbformat_minor": 2
}
