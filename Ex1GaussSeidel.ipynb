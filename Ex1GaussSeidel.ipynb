{
 "cells": [
  {
   "cell_type": "code",
   "execution_count": 9,
   "metadata": {},
   "outputs": [
    {
     "name": "stdout",
     "output_type": "stream",
     "text": [
      "The autoreload extension is already loaded. To reload it, use:\n",
      "  %reload_ext autoreload\n",
      "iteração: 0, valor de x: [0, 0, 0, 0]\n",
      "iteração: 1, valor de x: [3.75, 3.4375, 3.359375, 4.453125]\n",
      "iteração: 2, valor de x: [4.609375, 4.4921875, 4.736328125, 4.912109375]\n",
      "iteração: 3, valor de x: [4.873046875, 4.90234375, 4.95361328125, 4.984537760416667]\n",
      "iteração: 4, valor de x: [4.9755859375, 4.9822998046875, 4.991709391276042, 4.997236463758681]\n",
      "iteração: 5, valor de x: [4.995574951171875, 4.9968210856119795, 4.998514387342666, 4.999504795780889]\n",
      "iteração: 6, valor de x: [4.999205271402995, 4.999429914686416, 4.999733677616827, 4.9999112258722755]\n",
      "iteração: 7, valor de x: [4.999857478671604, 4.999897789072108, 4.999952253736096, 4.999984084578698]\n",
      "iteração: 8, valor de x: [4.999974447268027, 4.99998167525103, 4.999991439957432, 4.999997146652477]\n",
      "iteração: 9, valor de x: [4.999995418812757, 4.999996714692547, 4.999998465336256, 4.999999488445419]\n",
      "iteração: 10, valor de x: [4.999999178673137, 4.999999411002348, 4.999999724861942, 4.999999908287314]\n",
      "iteração: 11, valor de x: [4.999999852750587, 4.999999894403132, 4.999999950672612, 4.9999999835575375]\n",
      "iteração: 12, valor de x: [4.999999973600783, 4.999999981068349, 4.999999991156471, 4.999999997052157]\n",
      "iteração: 13, valor de x: [4.999999995267087, 4.99999999660589, 4.999999998414512, 4.9999999994715045]\n",
      "Solução aproximada: [4.9999999991514725, 4.9999999993914965, 4.99999999971575, 4.99999999990525]\n"
     ]
    }
   ],
   "source": [
    "%load_ext autoreload\n",
    "%autoreload 2\n",
    "\n",
    "import GaussSeidel\n",
    "\n",
    "A = [\n",
    "    [4, -1, 0, 0],\n",
    "    [-1, 4, -1, 0],\n",
    "    [0, -1, 4, -1],\n",
    "    [0, 0, -1, 3]\n",
    "]\n",
    "b = [15, 10, 10, 10]\n",
    "x0 = [0, 0, 0, 0]\n",
    "\n",
    "sol = GaussSeidel.gauss_seidel(A, b, x0, tol=1e-8, max_iter=100)\n",
    "print(\"Solução aproximada:\", sol)"
   ]
  },
  {
   "cell_type": "code",
   "execution_count": 8,
   "metadata": {},
   "outputs": [
    {
     "name": "stdout",
     "output_type": "stream",
     "text": [
      "Bisection.py\t    Ex1EliminacaoGaussiana.ipynb  GS.py\t\tUntitled1.ipynb\r\n",
      "Cholesky.py\t    Ex1Jacobi.ipynb\t\t  LU.py\t\tUntitled.ipynb\r\n",
      "EliminacaoGauss.py  Ex1LU.ipynb\t\t\t  MetJacobi.py\r\n",
      "Ex1biseccion.ipynb  Ex1Newton.ipynb\t\t  Newton.py\r\n",
      "Ex1Cholesky.ipynb   GaussSeidel.py\t\t  __pycache__\r\n"
     ]
    }
   ],
   "source": [
    "!ls\n",
    "!cat GaussSeidel.py"
   ]
  },
  {
   "cell_type": "code",
   "execution_count": null,
   "metadata": {},
   "outputs": [],
   "source": []
  }
 ],
 "metadata": {
  "kernelspec": {
   "display_name": "Python 3",
   "language": "python",
   "name": "python3"
  },
  "language_info": {
   "codemirror_mode": {
    "name": "ipython",
    "version": 3
   },
   "file_extension": ".py",
   "mimetype": "text/x-python",
   "name": "python",
   "nbconvert_exporter": "python",
   "pygments_lexer": "ipython3",
   "version": "3.6.9"
  }
 },
 "nbformat": 4,
 "nbformat_minor": 2
}
