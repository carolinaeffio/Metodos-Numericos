{
 "cells": [
  {
   "cell_type": "code",
   "execution_count": 3,
   "metadata": {},
   "outputs": [
    {
     "name": "stdout",
     "output_type": "stream",
     "text": [
      "The autoreload extension is already loaded. To reload it, use:\n",
      "  %reload_ext autoreload\n",
      "Matriz L:\n",
      "[1.0, 0.0, 0.0]\n",
      "[-2.0, 1.0, 0.0]\n",
      "[-2.0, -1.0, 1.0]\n",
      "\n",
      "Matriz U:\n",
      "[2, -1, -2]\n",
      "[0.0, 4.0, -1.0]\n",
      "[0.0, 0.0, 3.0]\n"
     ]
    }
   ],
   "source": [
    "%load_ext autoreload\n",
    "%autoreload 2\n",
    "\n",
    "import LU\n",
    "\n",
    "#A = LU \n",
    "\n",
    "A = [\n",
    "    [2, -1, -2],\n",
    "    [-4, 6, 3],\n",
    "    [-4, -2, 8]\n",
    "]\n",
    "\n",
    "L, U = LU.decomposicao_LU(A)\n",
    "\n",
    "print(\"Matriz L:\")\n",
    "for row in L:\n",
    "    print(row)\n",
    "\n",
    "print(\"\\nMatriz U:\")\n",
    "for row in U:\n",
    "    print(row)\n"
   ]
  },
  {
   "cell_type": "code",
   "execution_count": null,
   "metadata": {},
   "outputs": [],
   "source": []
  },
  {
   "cell_type": "code",
   "execution_count": null,
   "metadata": {},
   "outputs": [],
   "source": []
  }
 ],
 "metadata": {
  "kernelspec": {
   "display_name": "Python 3",
   "language": "python",
   "name": "python3"
  },
  "language_info": {
   "codemirror_mode": {
    "name": "ipython",
    "version": 3
   },
   "file_extension": ".py",
   "mimetype": "text/x-python",
   "name": "python",
   "nbconvert_exporter": "python",
   "pygments_lexer": "ipython3",
   "version": "3.6.9"
  }
 },
 "nbformat": 4,
 "nbformat_minor": 2
}
