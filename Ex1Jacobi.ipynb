{
 "cells": [
  {
   "cell_type": "code",
   "execution_count": 1,
   "metadata": {},
   "outputs": [
    {
     "name": "stdout",
     "output_type": "stream",
     "text": [
      "Solução aproximada: [1.0000000008366592, 1.9999999985888712, -0.9999999989100756, 0.9999999984529894]\n"
     ]
    }
   ],
   "source": [
    "%load_ext autoreload\n",
    "%autoreload 2\n",
    "\n",
    "import MetJacobi\n",
    "\n",
    "A = [\n",
    "    [10, -1, 2, 0],\n",
    "    [-1, 11, -1, 3],\n",
    "    [2, -1, 10, -1],\n",
    "    [0, 3, -1, 8]\n",
    "]\n",
    "b = [6, 25, -11, 15]\n",
    "x0 = [0, 0, 0, 0]\n",
    "\n",
    "sol = MetJacobi.jacobi(A, b, x0, tol=1e-8, max_iter=100)\n",
    "print(\"Solução aproximada:\", sol)"
   ]
  },
  {
   "cell_type": "code",
   "execution_count": null,
   "metadata": {},
   "outputs": [],
   "source": []
  }
 ],
 "metadata": {
  "kernelspec": {
   "display_name": "Python 3",
   "language": "python",
   "name": "python3"
  },
  "language_info": {
   "codemirror_mode": {
    "name": "ipython",
    "version": 3
   },
   "file_extension": ".py",
   "mimetype": "text/x-python",
   "name": "python",
   "nbconvert_exporter": "python",
   "pygments_lexer": "ipython3",
   "version": "3.6.9"
  }
 },
 "nbformat": 4,
 "nbformat_minor": 2
}
