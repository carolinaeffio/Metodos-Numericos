{
 "cells": [
  {
   "cell_type": "code",
   "execution_count": 7,
   "metadata": {},
   "outputs": [
    {
     "name": "stdout",
     "output_type": "stream",
     "text": [
      "The autoreload extension is already loaded. To reload it, use:\n",
      "  %reload_ext autoreload\n",
      "Solução: [2.0, 3.0, -1.0]\n"
     ]
    }
   ],
   "source": [
    "%load_ext autoreload\n",
    "%autoreload 2\n",
    "\n",
    "import EliminacaoGauss\n",
    "\n",
    "#Ax = b\n",
    "A = [\n",
    "    [2, 1, -1],\n",
    "    [-3, -1, 2],\n",
    "    [-2, 1, 2]\n",
    "]\n",
    "b = [8, -11, -3]\n",
    "\n",
    "solucao = EliminacaoGauss.eliminacao_gaussiana(A, b)\n",
    "print(\"Solução:\", solucao)"
   ]
  },
  {
   "cell_type": "code",
   "execution_count": 2,
   "metadata": {},
   "outputs": [
    {
     "name": "stdout",
     "output_type": "stream",
     "text": [
      "Bisection.py\t\tEx1EliminacaoGaussiana.ipynb  __pycache__\r\n",
      "EliminacaoGaussiana.py\tEx1Newton.ipynb\t\t      Untitled.ipynb\r\n",
      "Ex1biseccion.ipynb\tNewton.py\r\n"
     ]
    }
   ],
   "source": [
    "!ls"
   ]
  },
  {
   "cell_type": "code",
   "execution_count": 5,
   "metadata": {},
   "outputs": [
    {
     "name": "stdout",
     "output_type": "stream",
     "text": [
      "def eliminacao_gaussiana(A, b):\r\n",
      "    \"\"\"\r\n",
      "    Resolve o sistema linear Ax = b usando eliminação gaussiana sem pivotamento.\r\n",
      "\r\n",
      "    Parâmetros:\r\n",
      "    A -- matriz quadrada (lista de listas ou numpy array)\r\n",
      "    b -- vetor do lado direito (lista ou numpy array)\r\n",
      "\r\n",
      "    Retorna:\r\n",
      "    x -- vetor solução\r\n",
      "    \"\"\"\r\n",
      "    n = len(A)\r\n",
      "\r\n",
      "    # Etapa 1: Eliminação (transforma A em matriz triangular superior)\r\n",
      "    for k in range(n - 1):\r\n",
      "        for i in range(k + 1, n):\r\n",
      "            if A[k][k] == 0:\r\n",
      "                raise ZeroDivisionError(\"Divisão por zero durante a eliminação.\")\r\n",
      "            m = A[i][k] / A[k][k]\r\n",
      "            for j in range(k, n):\r\n",
      "                A[i][j] = A[i][j] - m * A[k][j]\r\n",
      "            b[i] = b[i] - m * b[k]\r\n",
      "\r\n",
      "    # Etapa 2: Substituição regressiva\r\n",
      "    x = [0] * n\r\n",
      "    for i in range(n - 1, -1, -1):\r\n",
      "        soma = 0\r\n",
      "        for j in range(i + 1, n):\r\n",
      "            soma += A[i][j] * x[j]\r\n",
      "        if A[i][i] == 0:\r\n",
      "            raise ZeroDivisionError(\"Divisão por zero durante a substituição regressiva.\")\r\n",
      "        x[i] = (b[i] - soma) / A[i][i]\r\n",
      "\r\n",
      "    return x"
     ]
    }
   ],
   "source": [
    "!cat EliminacaoGauss.py"
   ]
  },
  {
   "cell_type": "code",
   "execution_count": null,
   "metadata": {},
   "outputs": [],
   "source": []
  }
 ],
 "metadata": {
  "kernelspec": {
   "display_name": "Python 3",
   "language": "python",
   "name": "python3"
  },
  "language_info": {
   "codemirror_mode": {
    "name": "ipython",
    "version": 3
   },
   "file_extension": ".py",
   "mimetype": "text/x-python",
   "name": "python",
   "nbconvert_exporter": "python",
   "pygments_lexer": "ipython3",
   "version": "3.6.9"
  }
 },
 "nbformat": 4,
 "nbformat_minor": 2
}
