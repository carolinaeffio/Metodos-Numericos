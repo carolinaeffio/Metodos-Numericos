{
 "cells": [
  {
   "cell_type": "code",
   "execution_count": 2,
   "metadata": {
    "scrolled": true
   },
   "outputs": [
    {
     "name": "stdout",
     "output_type": "stream",
     "text": [
      "The autoreload extension is already loaded. To reload it, use:\n",
      "  %reload_ext autoreload\n",
      "iteração: 0, valor de x: [0. 0.]\n",
      "iteração: 1, valor de x: [0.25 0.5 ]\n",
      "Solução aproximada: [0.09090909 0.63636364]\n"
     ]
    }
   ],
   "source": [
    "%load_ext autoreload\n",
    "%autoreload 2\n",
    "\n",
    "import numpy as np\n",
    "import GradConjugado\n",
    "\n",
    "A = np.array([\n",
    "    [4, 1],\n",
    "    [1, 3]\n",
    "], dtype=float)\n",
    "\n",
    "b = np.array([1, 2], dtype=float)\n",
    "x0 = np.zeros(len(b))\n",
    "\n",
    "sol = GradConjugado.gradiente_conjugado(A, b, x0)\n",
    "print(\"Solução aproximada:\", sol)"
   ]
  },
  {
   "cell_type": "code",
   "execution_count": null,
   "metadata": {},
   "outputs": [],
   "source": []
  }
 ],
 "metadata": {
  "kernelspec": {
   "display_name": "Python 3",
   "language": "python",
   "name": "python3"
  },
  "language_info": {
   "codemirror_mode": {
    "name": "ipython",
    "version": 3
   },
   "file_extension": ".py",
   "mimetype": "text/x-python",
   "name": "python",
   "nbconvert_exporter": "python",
   "pygments_lexer": "ipython3",
   "version": "3.6.9"
  }
 },
 "nbformat": 4,
 "nbformat_minor": 2
}
