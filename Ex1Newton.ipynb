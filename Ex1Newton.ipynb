{
 "cells": [
  {
   "cell_type": "code",
   "execution_count": 1,
   "metadata": {},
   "outputs": [
    {
     "name": "stdout",
     "output_type": "stream",
     "text": [
      "iteracion: 0, valor de la raiz: 0.5\n",
      "iteracion: 1, valor de la raiz: 2.25\n",
      "iteracion: 2, valor de la raiz: 1.5694444444444444\n",
      "iteracion: 3, valor de la raiz: 1.4218903638151426\n",
      "iteracion: 4, valor de la raiz: 1.4142342859400734\n",
      "Convergiu em 5 iterações.\n",
      "Raiz aproximada: 1.4142135625249321\n"
     ]
    }
   ],
   "source": [
    "%load_ext autoreload\n",
    "%autoreload 2\n",
    "\n",
    "import Newton\n",
    "# Exemplo: f(x) = x^2 - 2\n",
    "def f(x):\n",
    "    return x**2 - 2\n",
    "\n",
    "def df(x):\n",
    "    return 2 * x\n",
    "\n",
    "# Chute inicial\n",
    "x0 = 0.5\n",
    "\n",
    "# Executa o método\n",
    "raiz = Newton.newton(f, df, x0)\n",
    "print(f\"Raiz aproximada: {raiz}\")\n"
   ]
  },
  {
   "cell_type": "code",
   "execution_count": null,
   "metadata": {},
   "outputs": [],
   "source": [
    "!ls\n"
   ]
  },
  {
   "cell_type": "code",
   "execution_count": null,
   "metadata": {},
   "outputs": [],
   "source": []
  }
 ],
 "metadata": {
  "kernelspec": {
   "display_name": "Python 3",
   "language": "python",
   "name": "python3"
  },
  "language_info": {
   "codemirror_mode": {
    "name": "ipython",
    "version": 3
   },
   "file_extension": ".py",
   "mimetype": "text/x-python",
   "name": "python",
   "nbconvert_exporter": "python",
   "pygments_lexer": "ipython3",
   "version": "3.6.9"
  }
 },
 "nbformat": 4,
 "nbformat_minor": 2
}
