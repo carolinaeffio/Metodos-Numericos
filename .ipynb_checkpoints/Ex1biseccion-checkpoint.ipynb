{
 "cells": [
  {
   "cell_type": "code",
   "execution_count": 35,
   "metadata": {},
   "outputs": [
    {
     "name": "stdout",
     "output_type": "stream",
     "text": [
      "The autoreload extension is already loaded. To reload it, use:\n",
      "  %reload_ext autoreload\n",
      "Valor da função na raiz: -9.155180305242538e-05\n",
      "Raiz aproximada: 1.999969482421875\n"
     ]
    }
   ],
   "source": [
    "%load_ext autoreload\n",
    "%autoreload 2\n",
    "import MetodoBiseccion\n",
    "\n",
    "# Definir la función y(x)\n",
    "def y(x):\n",
    "    return x**2 - x - 2\n",
    "\n",
    "# Parametros para el método\n",
    "TLow = 1\n",
    "THigh = 15\n",
    "maxIter = 100\n",
    "maxErro = 0.0001\n",
    "\n",
    "# Llamar al método\n",
    "raiz = MetodoBiseccion.bisection(y, TLow, THigh, maxErro, maxIter)\n",
    "\n",
    "# Exibir resultado\n",
    "print(\"Valor da função na raiz:\", y(raiz))\n",
    "print(\"Raiz aproximada:\", raiz)"
   ]
  },
  {
   "cell_type": "code",
   "execution_count": 22,
   "metadata": {},
   "outputs": [],
   "source": [
    "\n"
   ]
  },
  {
   "cell_type": "code",
   "execution_count": null,
   "metadata": {},
   "outputs": [],
   "source": []
  }
 ],
 "metadata": {
  "kernelspec": {
   "display_name": "Python 3",
   "language": "python",
   "name": "python3"
  },
  "language_info": {
   "codemirror_mode": {
    "name": "ipython",
    "version": 3
   },
   "file_extension": ".py",
   "mimetype": "text/x-python",
   "name": "python",
   "nbconvert_exporter": "python",
   "pygments_lexer": "ipython3",
   "version": "3.6.9"
  }
 },
 "nbformat": 4,
 "nbformat_minor": 2
}
